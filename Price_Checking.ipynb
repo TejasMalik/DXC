{
 "cells": [
  {
   "cell_type": "code",
   "execution_count": 1,
   "metadata": {},
   "outputs": [],
   "source": [
    "# Coordinates of detected objects\n",
    "detected_obj = {'puffed_wheat.png': [[412,235,410,390,518,391,523,237]],\n",
    "        \n",
    " 'nature_promise_raisin.png': [[519,58,514,203,615,200,619,60]],\n",
    " 'nature_promise_nut.png': [[399,56,396,208,500,206,497,57]],\n",
    " 'puffed_rice.png': [[298,236,296,389,405,392,407,235]],\n",
    " 'shredded_wheat.png': [[388,598,389,731,479,733,487,599],\n",
    "  [523,242,518,393,619,390,623,246]],\n",
    " 'oats.png': [[191,241,194,388,293,390,292,240]],\n",
    " 'chocos_125g.png': [[194,790,191,898,284,896,280,789], [304,809,302,892,372,891,372,810]]\n",
    "       }"
   ]
  },
  {
   "cell_type": "code",
   "execution_count": 2,
   "metadata": {},
   "outputs": [],
   "source": [
    "# import pandas as pd\n",
    "\n",
    "# data = pd.read_csv('test_labels.csv')"
   ]
  },
  {
   "cell_type": "code",
   "execution_count": 3,
   "metadata": {},
   "outputs": [],
   "source": [
    "# actual_obj_cood = {}\n",
    "# keys = data.iloc[:,3].values\n",
    "# values = data.iloc[:,4:8].values\n",
    "\n",
    "# for i in range(len(keys)):\n",
    "#     actual_obj_cood[keys[i]] = list(values[i]) "
   ]
  },
  {
   "cell_type": "code",
   "execution_count": 4,
   "metadata": {},
   "outputs": [],
   "source": [
    "# actual_obj_cood"
   ]
  },
  {
   "cell_type": "code",
   "execution_count": 5,
   "metadata": {},
   "outputs": [],
   "source": [
    "# Compute Euclidian Distance between two points\n",
    "# import math\n",
    "\n",
    "# def distance_for_actual(list_of_coods):\n",
    "#     p1 = (list_of_coods[0], list_of_coods[0])\n",
    "#     p2 = (list_of_coods[1], list_of_coods[3])\n",
    "#     height = math.sqrt(((abs(p1[0] - p1[1]))**2) + ((abs(p2[0] - p2[1]))**2))\n",
    "    \n",
    "#     return height"
   ]
  },
  {
   "cell_type": "code",
   "execution_count": 6,
   "metadata": {},
   "outputs": [],
   "source": [
    "# def actual_length(actual_obj_cood):\n",
    "#     dict_actual = {}\n",
    "#     for key in actual_obj_cood.keys():\n",
    "#         dict_actual[key] = distance_for_actual(actual_obj_cood[key])\n",
    "#     return dict_actual"
   ]
  },
  {
   "cell_type": "code",
   "execution_count": 7,
   "metadata": {},
   "outputs": [],
   "source": [
    "# actual_length(actual_obj_cood)"
   ]
  },
  {
   "cell_type": "code",
   "execution_count": 8,
   "metadata": {},
   "outputs": [],
   "source": [
    "# actual_obj_length = actual_length(actual_obj_cood)"
   ]
  },
  {
   "cell_type": "code",
   "execution_count": 9,
   "metadata": {},
   "outputs": [],
   "source": [
    "actual_obj_length = {\n",
    "    'rack': 2.5,\n",
    "    'nature_promise_nut.png': 12,\n",
    "    'nature_promise_raisin.png': 12,\n",
    "    'oats.png': 12,\n",
    "    'puffed_rice.png': 12,\n",
    "    'puffed_wheat.png': 12,\n",
    "    'shredded_wheat.png': 12,\n",
    "    'chocos_125g.png': 9\n",
    "}"
   ]
  },
  {
   "cell_type": "code",
   "execution_count": 10,
   "metadata": {},
   "outputs": [],
   "source": [
    "rack = actual_obj_length['rack']"
   ]
  },
  {
   "cell_type": "code",
   "execution_count": 11,
   "metadata": {},
   "outputs": [],
   "source": [
    "del actual_obj_length['rack']"
   ]
  },
  {
   "cell_type": "code",
   "execution_count": 12,
   "metadata": {},
   "outputs": [],
   "source": [
    "# Compute Euclidian Distance between two points\n",
    "import math\n",
    "\n",
    "def distance_cood(list_of_coods):\n",
    "    p1 = (list_of_coods[0], list_of_coods[2])\n",
    "    p2 = (list_of_coods[1], list_of_coods[3])\n",
    "    height = math.sqrt(((abs(p1[0] - p1[1]))**2) + ((abs(p2[0] - p2[1]))**2))\n",
    "    \n",
    "    return height"
   ]
  },
  {
   "cell_type": "code",
   "execution_count": 13,
   "metadata": {},
   "outputs": [],
   "source": [
    "# Calculate the length of the detected products and put it in dictionary \n",
    "def calc_length(detected_obj):\n",
    "    dict_lengths = {}\n",
    "    for key in detected_obj.keys():\n",
    "        length_of_all = []\n",
    "        l = detected_obj[key]\n",
    "        for i in range(len(l)):\n",
    "            list_of_coods_left = l[i][0:4]\n",
    "            list_of_coods_right = l[i][4:8]\n",
    "            length = [distance_cood(list_of_coods_left), distance_cood(list_of_coods_right)]\n",
    "            length_of_all.append(length)\n",
    "        dict_lengths[key] = length_of_all\n",
    "    return dict_lengths"
   ]
  },
  {
   "cell_type": "code",
   "execution_count": 14,
   "metadata": {},
   "outputs": [
    {
     "data": {
      "text/plain": [
       "{'puffed_wheat.png': [[155.0129026887762, 154.0811474515945]],\n",
       " 'nature_promise_raisin.png': [[145.08618128546908, 140.05713120009278]],\n",
       " 'nature_promise_nut.png': [[152.029602380589, 149.03019828209315]],\n",
       " 'puffed_rice.png': [[153.0130713370593, 157.01273833673497]],\n",
       " 'shredded_wheat.png': [[133.00375934536586, 134.23859355639868],\n",
       "  [151.08275877809487, 144.05554484295286]],\n",
       " 'oats.png': [[147.03060905811415, 150.00333329629711]],\n",
       " 'chocos_125g.png': [[108.04165863221463, 107.07474025184464],\n",
       "  [83.02409288875127, 81.0]]}"
      ]
     },
     "execution_count": 14,
     "metadata": {},
     "output_type": "execute_result"
    }
   ],
   "source": [
    "# Left length and right length of detected product\n",
    "calc_length(detected_obj)"
   ]
  },
  {
   "cell_type": "code",
   "execution_count": 15,
   "metadata": {},
   "outputs": [],
   "source": [
    "detected_obj_length = calc_length(detected_obj)"
   ]
  },
  {
   "cell_type": "code",
   "execution_count": 16,
   "metadata": {},
   "outputs": [],
   "source": [
    "# Computing Ratios for each of detected product\n",
    "def ratios(detected_obj_length, actual_obj_length):\n",
    "    dict_ratios = {}\n",
    "    for key in detected_obj_length.keys():\n",
    "        ratio_of_all = []\n",
    "        l = detected_obj_length[key]\n",
    "        for i in range(len(l)):\n",
    "            ratio1 = l[i][0]/actual_obj_length[key]\n",
    "            ratio2 = l[i][1]/actual_obj_length[key]\n",
    "            ratios = [ratio1, ratio2]\n",
    "            ratio_of_all.append(ratios)\n",
    "        dict_ratios[key] = ratio_of_all\n",
    "    return dict_ratios"
   ]
  },
  {
   "cell_type": "code",
   "execution_count": 17,
   "metadata": {},
   "outputs": [
    {
     "data": {
      "text/plain": [
       "{'puffed_wheat.png': [[12.91774189073135, 12.840095620966208]],\n",
       " 'nature_promise_raisin.png': [[12.090515107122423, 11.671427600007732]],\n",
       " 'nature_promise_nut.png': [[12.669133531715751, 12.41918319017443]],\n",
       " 'puffed_rice.png': [[12.751089278088275, 13.08439486139458]],\n",
       " 'shredded_wheat.png': [[11.083646612113823, 11.186549463033224],\n",
       "  [12.590229898174572, 12.004628736912737]],\n",
       " 'oats.png': [[12.252550754842845, 12.500277774691426]],\n",
       " 'chocos_125g.png': [[12.004628736912737, 11.897193361316072],\n",
       "  [9.224899209861253, 9.0]]}"
      ]
     },
     "execution_count": 17,
     "metadata": {},
     "output_type": "execute_result"
    }
   ],
   "source": [
    "ratios(detected_obj_length, actual_obj_length)"
   ]
  },
  {
   "cell_type": "code",
   "execution_count": 18,
   "metadata": {},
   "outputs": [],
   "source": [
    "detected_obj_ratios = ratios(detected_obj_length, actual_obj_length)"
   ]
  },
  {
   "cell_type": "code",
   "execution_count": 19,
   "metadata": {},
   "outputs": [],
   "source": [
    "# Putting all the ratio in a list and taking the median\n",
    "def calc_median(detected_obj_ratios):\n",
    "    l_left = []\n",
    "    l_right = []\n",
    "    for key in detected_obj_ratios:\n",
    "        l = detected_obj_ratios[key]\n",
    "        for i in range(len(l)):\n",
    "            l_left.append(l[i][0])\n",
    "            l_right.append(l[i][1])\n",
    "    sorted(l_left)\n",
    "    sorted(l_right)\n",
    "    return [l_left[len(l_left)//2], l_right[len(l_right)//2]]"
   ]
  },
  {
   "cell_type": "code",
   "execution_count": 20,
   "metadata": {},
   "outputs": [
    {
     "data": {
      "text/plain": [
       "[11.083646612113823, 11.186549463033224]"
      ]
     },
     "execution_count": 20,
     "metadata": {},
     "output_type": "execute_result"
    }
   ],
   "source": [
    "calc_median(detected_obj_ratios)"
   ]
  },
  {
   "cell_type": "code",
   "execution_count": 21,
   "metadata": {},
   "outputs": [],
   "source": [
    "median = calc_median(detected_obj_ratios)"
   ]
  },
  {
   "cell_type": "code",
   "execution_count": 22,
   "metadata": {},
   "outputs": [
    {
     "data": {
      "text/plain": [
       "[27.709116530284557, 27.96637365758306]"
      ]
     },
     "execution_count": 22,
     "metadata": {},
     "output_type": "execute_result"
    }
   ],
   "source": [
    "# Computing length of the rack\n",
    "rack = [rack*median[0], rack*median[1]]\n",
    "rack"
   ]
  },
  {
   "cell_type": "code",
   "execution_count": 23,
   "metadata": {},
   "outputs": [],
   "source": [
    "# Compute rack coordinates and store it dictionary\n",
    "def rack_cood(detected_obj, rack):\n",
    "    dict_rack = {}\n",
    "    for key in detected_obj.keys():\n",
    "        cood_of_rack = []\n",
    "        l = detected_obj[key]\n",
    "        for i in range(len(l)):\n",
    "            cood_of_single_rack = [[max(l[i][0], l[i][2]), l[i][3]], [max(l[i][0], l[i][2]), (l[i][3] + rack[0])], [max(l[i][4], l[i][6]), (l[i][5] + rack[1])], [max(l[i][4], l[i][6]), l[i][5]]]\n",
    "            \n",
    "            cood_of_rack.append(cood_of_single_rack)\n",
    "        dict_rack[key] = cood_of_rack\n",
    "    return dict_rack"
   ]
  },
  {
   "cell_type": "code",
   "execution_count": 24,
   "metadata": {},
   "outputs": [
    {
     "data": {
      "text/plain": [
       "{'puffed_wheat.png': [[[412, 390],\n",
       "   [412, 417.7091165302846],\n",
       "   [523, 418.96637365758306],\n",
       "   [523, 391]]],\n",
       " 'nature_promise_raisin.png': [[[519, 203],\n",
       "   [519, 230.70911653028455],\n",
       "   [619, 227.96637365758306],\n",
       "   [619, 200]]],\n",
       " 'nature_promise_nut.png': [[[399, 208],\n",
       "   [399, 235.70911653028455],\n",
       "   [500, 233.96637365758306],\n",
       "   [500, 206]]],\n",
       " 'puffed_rice.png': [[[298, 389],\n",
       "   [298, 416.7091165302846],\n",
       "   [407, 419.96637365758306],\n",
       "   [407, 392]]],\n",
       " 'shredded_wheat.png': [[[389, 731],\n",
       "   [389, 758.7091165302845],\n",
       "   [487, 760.9663736575831],\n",
       "   [487, 733]],\n",
       "  [[523, 393],\n",
       "   [523, 420.7091165302846],\n",
       "   [623, 417.96637365758306],\n",
       "   [623, 390]]],\n",
       " 'oats.png': [[[194, 388],\n",
       "   [194, 415.7091165302846],\n",
       "   [293, 417.96637365758306],\n",
       "   [293, 390]]],\n",
       " 'chocos_125g.png': [[[194, 898],\n",
       "   [194, 925.7091165302845],\n",
       "   [284, 923.9663736575831],\n",
       "   [284, 896]],\n",
       "  [[304, 892],\n",
       "   [304, 919.7091165302845],\n",
       "   [372, 918.9663736575831],\n",
       "   [372, 891]]]}"
      ]
     },
     "execution_count": 24,
     "metadata": {},
     "output_type": "execute_result"
    }
   ],
   "source": [
    "rack_cood(detected_obj, rack)"
   ]
  },
  {
   "cell_type": "code",
   "execution_count": 25,
   "metadata": {},
   "outputs": [],
   "source": [
    "res_cood = rack_cood(detected_obj, rack)"
   ]
  },
  {
   "cell_type": "code",
   "execution_count": 26,
   "metadata": {},
   "outputs": [],
   "source": [
    "text_cood = {\n",
    "    '$0.75': [[(239,393),(278,394),(278,408),(239,407)]],\n",
    "    '$2.24': [[(558,395),(596,395),(596,409),(558,409)]],\n",
    "    '$1.25': [[(367,570),(392,570),(392,577),(367,577)]],\n",
    "    '$2.50': [[(552,748),(578,749),(578,756),(552,755)]],\n",
    "    '$2.25': [[(232,902),(271,901),(271,913),(232,914)]],\n",
    "    '$3.00': [[(331,906),(367,905),(367,918),(331,919)]]\n",
    "}"
   ]
  },
  {
   "cell_type": "code",
   "execution_count": 27,
   "metadata": {},
   "outputs": [],
   "source": [
    "from shapely.geometry import Polygon\n",
    "\n",
    "\n",
    "def calculate_intersection(box_1, box_2):\n",
    "    poly_1 = Polygon(box_1)\n",
    "    poly_2 = Polygon(box_2)\n",
    "    intersection_area = poly_1.intersection(poly_2).area\n",
    "    return intersection_area"
   ]
  },
  {
   "cell_type": "code",
   "execution_count": 28,
   "metadata": {},
   "outputs": [],
   "source": [
    "def check_overlap(text_cood_four, res_cood):\n",
    "    dict_area = {}\n",
    "    for rack_key in res_cood.keys():\n",
    "        area_of_text = []\n",
    "        l_rack = res_cood[rack_key]\n",
    "        for i in range(len(l_rack)):\n",
    "            l = []\n",
    "            box_1 = l_rack[i]\n",
    "            for text_key in text_cood_four.keys():\n",
    "                l_text = text_cood_four[text_key]\n",
    "                for i in range(len(l_text)):\n",
    "                    box_2 = l_text[i]\n",
    "                    area_overlap = calculate_intersection(box_1, box_2)\n",
    "                    l.append(area_overlap)\n",
    "            area_of_text.append(l)\n",
    "        dict_area[rack_key] = area_of_text\n",
    "    return dict_area"
   ]
  },
  {
   "cell_type": "code",
   "execution_count": 29,
   "metadata": {},
   "outputs": [
    {
     "data": {
      "text/plain": [
       "{'puffed_wheat.png': [[0.0, 0.0, 0.0, 0.0, 0.0, 0.0]],\n",
       " 'nature_promise_raisin.png': [[0.0, 0.0, 0.0, 0.0, 0.0, 0.0]],\n",
       " 'nature_promise_nut.png': [[0.0, 0.0, 0.0, 0.0, 0.0, 0.0]],\n",
       " 'puffed_rice.png': [[0.0, 0.0, 0.0, 0.0, 0.0, 0.0]],\n",
       " 'shredded_wheat.png': [[0.0, 0.0, 0.0, 0.0, 0.0, 0.0],\n",
       "  [0.0, 532.0, 0.0, 0.0, 0.0, 0.0]],\n",
       " 'oats.png': [[546.0, 0.0, 0.0, 0.0, 0.0, 0.0]],\n",
       " 'chocos_125g.png': [[0.0, 0.0, 0.0, 0.0, 468.0, 0.0],\n",
       "  [0.0, 0.0, 0.0, 0.0, 0.0, 468.0]]}"
      ]
     },
     "execution_count": 29,
     "metadata": {},
     "output_type": "execute_result"
    }
   ],
   "source": [
    "check_overlap(text_cood, res_cood)"
   ]
  },
  {
   "cell_type": "code",
   "execution_count": 30,
   "metadata": {},
   "outputs": [],
   "source": [
    "dict_res = check_overlap(text_cood, res_cood)"
   ]
  },
  {
   "cell_type": "code",
   "execution_count": 31,
   "metadata": {},
   "outputs": [],
   "source": [
    "from shapely.geometry import Polygon\n",
    "\n",
    "def area_text(list_text_cood):\n",
    "    poly_text = Polygon(list_text_cood)\n",
    "    area = poly_text.area\n",
    "    return area"
   ]
  },
  {
   "cell_type": "code",
   "execution_count": 64,
   "metadata": {},
   "outputs": [],
   "source": [
    "def price_matching(dict_res, text_cood):\n",
    "    dict_price = {}\n",
    "    l_of_text = []\n",
    "    l_of_text_cood = []\n",
    "\n",
    "    for key in text_cood.keys():\n",
    "        l = text_cood[key]\n",
    "        for i in range(len(l)):\n",
    "            l_of_text.append(key)\n",
    "            l_of_text_cood.append(l[i])\n",
    "    \n",
    "    for key in dict_res.keys():\n",
    "        l_check = []\n",
    "        l = dict_res[key]\n",
    "        for i in range(len(l)):\n",
    "            if (max(l[i]) == 0):\n",
    "                l_check.append('Price is Missing')\n",
    "                dict_price[key] = l_check\n",
    "                continue\n",
    "            else:\n",
    "                for j in range(len(l[i])):\n",
    "                    if l[i][j] == 0:\n",
    "                        continue\n",
    "                    else:\n",
    "                        l_check.append([l_of_text[j], (l[i][j]/area_text(l_of_text_cood[j]))])\n",
    "#                 l_check.append([l_of_text[l[i].index(max(l[i]))], (max(l[i])/area_text(l_of_text_cood[l[i].index(max(l[i]))]))])\n",
    "                dict_price[key] = l_check\n",
    "    return dict_price"
   ]
  },
  {
   "cell_type": "code",
   "execution_count": 65,
   "metadata": {},
   "outputs": [
    {
     "data": {
      "text/plain": [
       "{'puffed_wheat.png': ['Price is Missing'],\n",
       " 'nature_promise_raisin.png': ['Price is Missing'],\n",
       " 'nature_promise_nut.png': ['Price is Missing'],\n",
       " 'puffed_rice.png': ['Price is Missing'],\n",
       " 'shredded_wheat.png': ['Price is Missing', ['$2.24', 1.0]],\n",
       " 'oats.png': [['$0.75', 1.0]],\n",
       " 'chocos_125g.png': [['$2.25', 1.0], ['$3.00', 1.0]]}"
      ]
     },
     "execution_count": 65,
     "metadata": {},
     "output_type": "execute_result"
    }
   ],
   "source": [
    "price_matching(dict_res, text_cood)"
   ]
  },
  {
   "cell_type": "code",
   "execution_count": 34,
   "metadata": {},
   "outputs": [],
   "source": [
    "f = open(\"output1.txt\", encoding=\"utf8\")"
   ]
  },
  {
   "cell_type": "code",
   "execution_count": 35,
   "metadata": {},
   "outputs": [],
   "source": [
    "all_str = str(f.read())"
   ]
  },
  {
   "cell_type": "code",
   "execution_count": 36,
   "metadata": {},
   "outputs": [
    {
     "data": {
      "text/plain": [
       "'\\n\"Natune\\'s\\nPromise\\nNature\\'s\\nPromise\\nBeil-In-Bag\\nBrown Rice\\nBoil-In-Bag\\nBrown Rice\\nOrganic\\nHoney Nut Os O\\nOrganic\\nRan Bran Ceds\\nOats & O\\'s.\\nPuffed\\nRice\\nPuffed\\nWheat\\nFrosted\\nShredded\\nWheat\\nBoil-le-Be\\nWhite Rice\\nOat\\'s $0.75\\nFrosted\\n77711\\nLLEEdded $2.24\\nOred\\nSpark\\nmeasy\\nBuy 3 Choco F\\nkinie\\nkinley\\n$1.25\\nLL\\nFrosted\\nShredded\\nWheat\\nOstar Oe\\n$ 1.25\\nEにビ1 ビ\\n$2.50\\nсносOS\\nal\\nсносоS\\nGDark\\nFantasy\\nChoce File\\nChocos\\n125 $2.25\\nDat\\'s $3.00\\n\"\\nbounds: (85,72),(714,72),(714,919),(85,919)\\n\\n\"Natune\\'s\"\\nbounds: (414,72),(477,72),(477,94),(414,94)\\n\\n\"Promise\"\\nbounds: (411,89),(483,84),(485,107),(413,112)\\n\\n\"Nature\\'s\"\\nbounds: (535,76),(598,78),(597,101),(534,99)\\n\\n\"Promise\"\\nbounds: (532,95),(607,93),(608,115),(533,117)\\n\\n\"Beil-In-Bag\"\\nbounds: (219,105),(256,106),(256,113),(219,112)\\n\\n\"Brown\"\\nbounds: (219,113),(239,113),(239,118),(219,118)\\n\\n\"Rice\"\\nbounds: (242,112),(256,112),(256,118),(242,118)\\n\\n\"Boil-In-Bag\"\\nbounds: (311,106),(348,106),(348,111),(311,111)\\n\\n\"Brown\"\\nbounds: (311,113),(331,113),(331,118),(311,118)\\n\\n\"Rice\"\\nbounds: (334,112),(348,112),(348,118),(334,118)\\n\\n\"Organic\"\\nbounds: (430,153),(453,154),(453,160),(430,159)\\n\\n\"Honey\"\\nbounds: (432,159),(449,159),(449,165),(432,165)\\n\\n\"Nut\"\\nbounds: (451,159),(461,159),(461,165),(451,165)\\n\\n\"Os\"\\nbounds: (464,161),(471,161),(471,164),(464,164)\\n\\n\"O\"\\nbounds: (483,159),(496,159),(496,165),(483,165)\\n\\n\"Organic\"\\nbounds: (549,154),(569,154),(569,159),(549,159)\\n\\n\"Ran\"\\nbounds: (551,161),(565,161),(565,164),(551,164)\\n\\n\"Bran\"\\nbounds: (567,161),(577,161),(577,164),(567,164)\\n\\n\"Ceds\"\\nbounds: (580,161),(597,161),(597,164),(580,164)\\n\\n\"Oats\"\\nbounds: (201,266),(230,266),(230,277),(201,277)\\n\\n\"&\"\\nbounds: (234,268),(242,268),(242,277),(234,277)\\n\\n\"O\\'s.\"\\nbounds: (247,263),(273,263),(273,279),(247,279)\\n\\n\"Puffed\"\\nbounds: (308,261),(356,261),(356,277),(308,277)\\n\\n\"Rice\"\\nbounds: (307,276),(338,276),(338,289),(307,289)\\n\\n\"Puffed\"\\nbounds: (421,262),(469,262),(469,275),(421,275)\\n\\n\"Wheat\"\\nbounds: (419,274),(469,275),(469,291),(419,290)\\n\\n\"Frosted\"\\nbounds: (534,268),(571,268),(571,277),(534,277)\\n\\n\"Shredded\"\\nbounds: (533,275),(580,276),(580,289),(533,288)\\n\\n\"Wheat\"\\nbounds: (532,286),(564,286),(564,297),(532,297)\\n\\n\"Boil-le-Be\"\\nbounds: (678,349),(713,349),(713,354),(678,354)\\n\\n\"White\"\\nbounds: (677,355),(696,355),(696,361),(677,361)\\n\\n\"Rice\"\\nbounds: (699,354),(714,354),(714,360),(699,360)\\n\\n\"Oat\\'s\"\\nbounds: (209,391),(231,392),(231,408),(209,407)\\n\\n\"$0.75\"\\nbounds: (239,393),(278,394),(278,408),(239,407)\\n\\n\"Frosted\"\\nbounds: (521,391),(544,391),(544,399),(521,399)\\n\\n\"77711\"\\nbounds: (463,393),(390,393),(390,393),(463,393)\\n\\n\"LLEEdded\"\\nbounds: (458,397),(554,396),(554,409),(458,410)\\n\\n\"$2.24\"\\nbounds: (558,395),(596,395),(596,409),(558,409)\\n\\n\"Ored\"\\nbounds: (356,522),(368,522),(368,526),(356,526)\\n\\n\"Spark\"\\nbounds: (200,533),(241,536),(240,547),(199,544)\\n\\n\"measy\"\\nbounds: (212,545),(249,545),(249,555),(212,555)\\n\\n\"Buy\"\\nbounds: (261,535),(274,535),(274,544),(261,544)\\n\\n\"3\"\\nbounds: (278,535),(282,535),(282,542),(278,542)\\n\\n\"Choco\"\\nbounds: (286,535),(310,535),(310,543),(286,543)\\n\\n\"F\"\\nbounds: (314,534),(318,534),(318,544),(314,544)\\n\\n\"kinie\"\\nbounds: (511,539),(530,539),(530,548),(511,548)\\n\\n\"kinley\"\\nbounds: (541,536),(568,537),(568,547),(541,546)\\n\\n\"$1.25\"\\nbounds: (367,570),(392,570),(392,577),(367,577)\\n\\n\"LL\"\\nbounds: (426,571),(455,571),(455,584),(426,584)\\n\\n\"Frosted\"\\nbounds: (399,622),(435,623),(435,633),(399,632)\\n\\n\"Shredded\"\\nbounds: (398,631),(443,631),(443,641),(398,641)\\n\\n\"Wheat\"\\nbounds: (398,640),(427,640),(427,649),(398,649)\\n\\n\"Ostar\"\\nbounds: (85,668),(129,668),(129,682),(85,682)\\n\\n\"Oe\"\\nbounds: (133,668),(159,668),(159,682),(133,682)\\n\\n\"$\"\\nbounds: (233,738),(238,738),(238,748),(233,748)\\n\\n\"1.25\"\\nbounds: (240,738),(251,738),(251,748),(240,748)\\n\\n\"E\"\\nbounds: (421,742),(439,742),(439,759),(421,759)\\n\\n\"に\"\\nbounds: (441,742),(454,742),(454,759),(441,759)\\n\\n\"ビ\"\\nbounds: (456,742),(466,742),(466,759),(456,759)\\n\\n\"1\"\\nbounds: (468,743),(478,743),(478,760),(468,760)\\n\\n\"ビ\"\\nbounds: (480,743),(493,743),(493,760),(480,760)\\n\\n\"$2.50\"\\nbounds: (552,748),(578,749),(578,756),(552,755)\\n\\n\"сносOS\"\\nbounds: (202,817),(274,808),(277,828),(204,837)\\n\\n\"al\"\\nbounds: (325,823),(346,822),(346,829),(325,830)\\n\\n\"сносоS\"\\nbounds: (312,829),(366,827),(367,843),(313,845)\\n\\n\"GDark\"\\nbounds: (505,830),(559,833),(558,852),(504,849)\\n\\n\"Fantasy\"\\nbounds: (519,847),(570,851),(569,864),(518,860)\\n\\n\"Choce\"\\nbounds: (526,863),(546,863),(546,869),(526,869)\\n\\n\"File\"\\nbounds: (549,863),(563,863),(563,870),(549,870)\\n\\n\"Chocos\"\\nbounds: (200,897),(222,896),(222,902),(200,903)\\n\\n\"125\"\\nbounds: (198,903),(214,902),(214,915),(198,916)\\n\\n\"$2.25\"\\nbounds: (232,902),(271,901),(271,913),(232,914)\\n\\n\"Dat\\'s\"\\nbounds: (305,907),(327,906),(327,918),(305,919)\\n\\n\"$3.00\"\\nbounds: (331,906),(367,905),(367,918),(331,919)\\n'"
      ]
     },
     "execution_count": 36,
     "metadata": {},
     "output_type": "execute_result"
    }
   ],
   "source": [
    "all_str"
   ]
  },
  {
   "cell_type": "code",
   "execution_count": 37,
   "metadata": {},
   "outputs": [],
   "source": [
    "all_str = all_str.replace('\\n', '')"
   ]
  },
  {
   "cell_type": "code",
   "execution_count": 38,
   "metadata": {},
   "outputs": [
    {
     "data": {
      "text/plain": [
       "'\"Natune\\'sPromiseNature\\'sPromiseBeil-In-BagBrown RiceBoil-In-BagBrown RiceOrganicHoney Nut Os OOrganicRan Bran CedsOats & O\\'s.PuffedRicePuffedWheatFrostedShreddedWheatBoil-le-BeWhite RiceOat\\'s $0.75Frosted77711LLEEdded $2.24OredSparkmeasyBuy 3 Choco Fkiniekinley$1.25LLFrostedShreddedWheatOstar Oe$ 1.25Eにビ1 ビ$2.50сносOSalсносоSGDarkFantasyChoce FileChocos125 $2.25Dat\\'s $3.00\"bounds: (85,72),(714,72),(714,919),(85,919)\"Natune\\'s\"bounds: (414,72),(477,72),(477,94),(414,94)\"Promise\"bounds: (411,89),(483,84),(485,107),(413,112)\"Nature\\'s\"bounds: (535,76),(598,78),(597,101),(534,99)\"Promise\"bounds: (532,95),(607,93),(608,115),(533,117)\"Beil-In-Bag\"bounds: (219,105),(256,106),(256,113),(219,112)\"Brown\"bounds: (219,113),(239,113),(239,118),(219,118)\"Rice\"bounds: (242,112),(256,112),(256,118),(242,118)\"Boil-In-Bag\"bounds: (311,106),(348,106),(348,111),(311,111)\"Brown\"bounds: (311,113),(331,113),(331,118),(311,118)\"Rice\"bounds: (334,112),(348,112),(348,118),(334,118)\"Organic\"bounds: (430,153),(453,154),(453,160),(430,159)\"Honey\"bounds: (432,159),(449,159),(449,165),(432,165)\"Nut\"bounds: (451,159),(461,159),(461,165),(451,165)\"Os\"bounds: (464,161),(471,161),(471,164),(464,164)\"O\"bounds: (483,159),(496,159),(496,165),(483,165)\"Organic\"bounds: (549,154),(569,154),(569,159),(549,159)\"Ran\"bounds: (551,161),(565,161),(565,164),(551,164)\"Bran\"bounds: (567,161),(577,161),(577,164),(567,164)\"Ceds\"bounds: (580,161),(597,161),(597,164),(580,164)\"Oats\"bounds: (201,266),(230,266),(230,277),(201,277)\"&\"bounds: (234,268),(242,268),(242,277),(234,277)\"O\\'s.\"bounds: (247,263),(273,263),(273,279),(247,279)\"Puffed\"bounds: (308,261),(356,261),(356,277),(308,277)\"Rice\"bounds: (307,276),(338,276),(338,289),(307,289)\"Puffed\"bounds: (421,262),(469,262),(469,275),(421,275)\"Wheat\"bounds: (419,274),(469,275),(469,291),(419,290)\"Frosted\"bounds: (534,268),(571,268),(571,277),(534,277)\"Shredded\"bounds: (533,275),(580,276),(580,289),(533,288)\"Wheat\"bounds: (532,286),(564,286),(564,297),(532,297)\"Boil-le-Be\"bounds: (678,349),(713,349),(713,354),(678,354)\"White\"bounds: (677,355),(696,355),(696,361),(677,361)\"Rice\"bounds: (699,354),(714,354),(714,360),(699,360)\"Oat\\'s\"bounds: (209,391),(231,392),(231,408),(209,407)\"$0.75\"bounds: (239,393),(278,394),(278,408),(239,407)\"Frosted\"bounds: (521,391),(544,391),(544,399),(521,399)\"77711\"bounds: (463,393),(390,393),(390,393),(463,393)\"LLEEdded\"bounds: (458,397),(554,396),(554,409),(458,410)\"$2.24\"bounds: (558,395),(596,395),(596,409),(558,409)\"Ored\"bounds: (356,522),(368,522),(368,526),(356,526)\"Spark\"bounds: (200,533),(241,536),(240,547),(199,544)\"measy\"bounds: (212,545),(249,545),(249,555),(212,555)\"Buy\"bounds: (261,535),(274,535),(274,544),(261,544)\"3\"bounds: (278,535),(282,535),(282,542),(278,542)\"Choco\"bounds: (286,535),(310,535),(310,543),(286,543)\"F\"bounds: (314,534),(318,534),(318,544),(314,544)\"kinie\"bounds: (511,539),(530,539),(530,548),(511,548)\"kinley\"bounds: (541,536),(568,537),(568,547),(541,546)\"$1.25\"bounds: (367,570),(392,570),(392,577),(367,577)\"LL\"bounds: (426,571),(455,571),(455,584),(426,584)\"Frosted\"bounds: (399,622),(435,623),(435,633),(399,632)\"Shredded\"bounds: (398,631),(443,631),(443,641),(398,641)\"Wheat\"bounds: (398,640),(427,640),(427,649),(398,649)\"Ostar\"bounds: (85,668),(129,668),(129,682),(85,682)\"Oe\"bounds: (133,668),(159,668),(159,682),(133,682)\"$\"bounds: (233,738),(238,738),(238,748),(233,748)\"1.25\"bounds: (240,738),(251,738),(251,748),(240,748)\"E\"bounds: (421,742),(439,742),(439,759),(421,759)\"に\"bounds: (441,742),(454,742),(454,759),(441,759)\"ビ\"bounds: (456,742),(466,742),(466,759),(456,759)\"1\"bounds: (468,743),(478,743),(478,760),(468,760)\"ビ\"bounds: (480,743),(493,743),(493,760),(480,760)\"$2.50\"bounds: (552,748),(578,749),(578,756),(552,755)\"сносOS\"bounds: (202,817),(274,808),(277,828),(204,837)\"al\"bounds: (325,823),(346,822),(346,829),(325,830)\"сносоS\"bounds: (312,829),(366,827),(367,843),(313,845)\"GDark\"bounds: (505,830),(559,833),(558,852),(504,849)\"Fantasy\"bounds: (519,847),(570,851),(569,864),(518,860)\"Choce\"bounds: (526,863),(546,863),(546,869),(526,869)\"File\"bounds: (549,863),(563,863),(563,870),(549,870)\"Chocos\"bounds: (200,897),(222,896),(222,902),(200,903)\"125\"bounds: (198,903),(214,902),(214,915),(198,916)\"$2.25\"bounds: (232,902),(271,901),(271,913),(232,914)\"Dat\\'s\"bounds: (305,907),(327,906),(327,918),(305,919)\"$3.00\"bounds: (331,906),(367,905),(367,918),(331,919)'"
      ]
     },
     "execution_count": 38,
     "metadata": {},
     "output_type": "execute_result"
    }
   ],
   "source": [
    "all_str"
   ]
  },
  {
   "cell_type": "code",
   "execution_count": 39,
   "metadata": {},
   "outputs": [],
   "source": [
    "list_text = []\n",
    "i = 0\n",
    "while i<len(all_str):\n",
    "    if all_str[i] == '\"':\n",
    "        i += 1\n",
    "        temp1 = i\n",
    "        j = i\n",
    "        while j<len(all_str):\n",
    "            if all_str[j] == '\"':\n",
    "                temp2 = j\n",
    "                i = j\n",
    "                list_text.append(all_str[temp1:temp2])\n",
    "                break\n",
    "            j += 1\n",
    "    i += 1"
   ]
  },
  {
   "cell_type": "code",
   "execution_count": 40,
   "metadata": {},
   "outputs": [
    {
     "data": {
      "text/plain": [
       "[\"Natune's\",\n",
       " 'Promise',\n",
       " \"Nature's\",\n",
       " 'Promise',\n",
       " 'Beil-In-Bag',\n",
       " 'Brown',\n",
       " 'Rice',\n",
       " 'Boil-In-Bag',\n",
       " 'Brown',\n",
       " 'Rice',\n",
       " 'Organic',\n",
       " 'Honey',\n",
       " 'Nut',\n",
       " 'Os',\n",
       " 'O',\n",
       " 'Organic',\n",
       " 'Ran',\n",
       " 'Bran',\n",
       " 'Ceds',\n",
       " 'Oats',\n",
       " '&',\n",
       " \"O's.\",\n",
       " 'Puffed',\n",
       " 'Rice',\n",
       " 'Puffed',\n",
       " 'Wheat',\n",
       " 'Frosted',\n",
       " 'Shredded',\n",
       " 'Wheat',\n",
       " 'Boil-le-Be',\n",
       " 'White',\n",
       " 'Rice',\n",
       " \"Oat's\",\n",
       " '$0.75',\n",
       " 'Frosted',\n",
       " '77711',\n",
       " 'LLEEdded',\n",
       " '$2.24',\n",
       " 'Ored',\n",
       " 'Spark',\n",
       " 'measy',\n",
       " 'Buy',\n",
       " '3',\n",
       " 'Choco',\n",
       " 'F',\n",
       " 'kinie',\n",
       " 'kinley',\n",
       " '$1.25',\n",
       " 'LL',\n",
       " 'Frosted',\n",
       " 'Shredded',\n",
       " 'Wheat',\n",
       " 'Ostar',\n",
       " 'Oe',\n",
       " '$',\n",
       " '1.25',\n",
       " 'E',\n",
       " 'に',\n",
       " 'ビ',\n",
       " '1',\n",
       " 'ビ',\n",
       " '$2.50',\n",
       " 'сносOS',\n",
       " 'al',\n",
       " 'сносоS',\n",
       " 'GDark',\n",
       " 'Fantasy',\n",
       " 'Choce',\n",
       " 'File',\n",
       " 'Chocos',\n",
       " '125',\n",
       " '$2.25',\n",
       " \"Dat's\",\n",
       " '$3.00']"
      ]
     },
     "execution_count": 40,
     "metadata": {},
     "output_type": "execute_result"
    }
   ],
   "source": [
    "list_text.pop(0)\n",
    "list_text"
   ]
  },
  {
   "cell_type": "code",
   "execution_count": 41,
   "metadata": {},
   "outputs": [],
   "source": [
    "list_bounds = []\n",
    "i = 0\n",
    "while i<len(all_str):\n",
    "    if all_str[i:i+6] == 'bounds':\n",
    "        i += 1\n",
    "        temp1 = i\n",
    "        j = i\n",
    "        while j<len(all_str):\n",
    "            if all_str[j] == '\"' or j == len(all_str) - 1:\n",
    "                temp2 = j\n",
    "                i = j\n",
    "                list_bounds.append(all_str[temp1:temp2])\n",
    "                break\n",
    "            j += 1\n",
    "    i += 1"
   ]
  },
  {
   "cell_type": "code",
   "execution_count": 42,
   "metadata": {},
   "outputs": [
    {
     "data": {
      "text/plain": [
       "['ounds: (414,72),(477,72),(477,94),(414,94)',\n",
       " 'ounds: (411,89),(483,84),(485,107),(413,112)',\n",
       " 'ounds: (535,76),(598,78),(597,101),(534,99)',\n",
       " 'ounds: (532,95),(607,93),(608,115),(533,117)',\n",
       " 'ounds: (219,105),(256,106),(256,113),(219,112)',\n",
       " 'ounds: (219,113),(239,113),(239,118),(219,118)',\n",
       " 'ounds: (242,112),(256,112),(256,118),(242,118)',\n",
       " 'ounds: (311,106),(348,106),(348,111),(311,111)',\n",
       " 'ounds: (311,113),(331,113),(331,118),(311,118)',\n",
       " 'ounds: (334,112),(348,112),(348,118),(334,118)',\n",
       " 'ounds: (430,153),(453,154),(453,160),(430,159)',\n",
       " 'ounds: (432,159),(449,159),(449,165),(432,165)',\n",
       " 'ounds: (451,159),(461,159),(461,165),(451,165)',\n",
       " 'ounds: (464,161),(471,161),(471,164),(464,164)',\n",
       " 'ounds: (483,159),(496,159),(496,165),(483,165)',\n",
       " 'ounds: (549,154),(569,154),(569,159),(549,159)',\n",
       " 'ounds: (551,161),(565,161),(565,164),(551,164)',\n",
       " 'ounds: (567,161),(577,161),(577,164),(567,164)',\n",
       " 'ounds: (580,161),(597,161),(597,164),(580,164)',\n",
       " 'ounds: (201,266),(230,266),(230,277),(201,277)',\n",
       " 'ounds: (234,268),(242,268),(242,277),(234,277)',\n",
       " 'ounds: (247,263),(273,263),(273,279),(247,279)',\n",
       " 'ounds: (308,261),(356,261),(356,277),(308,277)',\n",
       " 'ounds: (307,276),(338,276),(338,289),(307,289)',\n",
       " 'ounds: (421,262),(469,262),(469,275),(421,275)',\n",
       " 'ounds: (419,274),(469,275),(469,291),(419,290)',\n",
       " 'ounds: (534,268),(571,268),(571,277),(534,277)',\n",
       " 'ounds: (533,275),(580,276),(580,289),(533,288)',\n",
       " 'ounds: (532,286),(564,286),(564,297),(532,297)',\n",
       " 'ounds: (678,349),(713,349),(713,354),(678,354)',\n",
       " 'ounds: (677,355),(696,355),(696,361),(677,361)',\n",
       " 'ounds: (699,354),(714,354),(714,360),(699,360)',\n",
       " 'ounds: (209,391),(231,392),(231,408),(209,407)',\n",
       " 'ounds: (239,393),(278,394),(278,408),(239,407)',\n",
       " 'ounds: (521,391),(544,391),(544,399),(521,399)',\n",
       " 'ounds: (463,393),(390,393),(390,393),(463,393)',\n",
       " 'ounds: (458,397),(554,396),(554,409),(458,410)',\n",
       " 'ounds: (558,395),(596,395),(596,409),(558,409)',\n",
       " 'ounds: (356,522),(368,522),(368,526),(356,526)',\n",
       " 'ounds: (200,533),(241,536),(240,547),(199,544)',\n",
       " 'ounds: (212,545),(249,545),(249,555),(212,555)',\n",
       " 'ounds: (261,535),(274,535),(274,544),(261,544)',\n",
       " 'ounds: (278,535),(282,535),(282,542),(278,542)',\n",
       " 'ounds: (286,535),(310,535),(310,543),(286,543)',\n",
       " 'ounds: (314,534),(318,534),(318,544),(314,544)',\n",
       " 'ounds: (511,539),(530,539),(530,548),(511,548)',\n",
       " 'ounds: (541,536),(568,537),(568,547),(541,546)',\n",
       " 'ounds: (367,570),(392,570),(392,577),(367,577)',\n",
       " 'ounds: (426,571),(455,571),(455,584),(426,584)',\n",
       " 'ounds: (399,622),(435,623),(435,633),(399,632)',\n",
       " 'ounds: (398,631),(443,631),(443,641),(398,641)',\n",
       " 'ounds: (398,640),(427,640),(427,649),(398,649)',\n",
       " 'ounds: (85,668),(129,668),(129,682),(85,682)',\n",
       " 'ounds: (133,668),(159,668),(159,682),(133,682)',\n",
       " 'ounds: (233,738),(238,738),(238,748),(233,748)',\n",
       " 'ounds: (240,738),(251,738),(251,748),(240,748)',\n",
       " 'ounds: (421,742),(439,742),(439,759),(421,759)',\n",
       " 'ounds: (441,742),(454,742),(454,759),(441,759)',\n",
       " 'ounds: (456,742),(466,742),(466,759),(456,759)',\n",
       " 'ounds: (468,743),(478,743),(478,760),(468,760)',\n",
       " 'ounds: (480,743),(493,743),(493,760),(480,760)',\n",
       " 'ounds: (552,748),(578,749),(578,756),(552,755)',\n",
       " 'ounds: (202,817),(274,808),(277,828),(204,837)',\n",
       " 'ounds: (325,823),(346,822),(346,829),(325,830)',\n",
       " 'ounds: (312,829),(366,827),(367,843),(313,845)',\n",
       " 'ounds: (505,830),(559,833),(558,852),(504,849)',\n",
       " 'ounds: (519,847),(570,851),(569,864),(518,860)',\n",
       " 'ounds: (526,863),(546,863),(546,869),(526,869)',\n",
       " 'ounds: (549,863),(563,863),(563,870),(549,870)',\n",
       " 'ounds: (200,897),(222,896),(222,902),(200,903)',\n",
       " 'ounds: (198,903),(214,902),(214,915),(198,916)',\n",
       " 'ounds: (232,902),(271,901),(271,913),(232,914)',\n",
       " 'ounds: (305,907),(327,906),(327,918),(305,919)',\n",
       " 'ounds: (331,906),(367,905),(367,918),(331,919']"
      ]
     },
     "execution_count": 42,
     "metadata": {},
     "output_type": "execute_result"
    }
   ],
   "source": [
    "list_bounds.pop(0)\n",
    "list_bounds"
   ]
  },
  {
   "cell_type": "code",
   "execution_count": 43,
   "metadata": {},
   "outputs": [
    {
     "data": {
      "text/plain": [
       "74"
      ]
     },
     "execution_count": 43,
     "metadata": {},
     "output_type": "execute_result"
    }
   ],
   "source": [
    "len(list_text)"
   ]
  },
  {
   "cell_type": "code",
   "execution_count": 44,
   "metadata": {},
   "outputs": [
    {
     "data": {
      "text/plain": [
       "74"
      ]
     },
     "execution_count": 44,
     "metadata": {},
     "output_type": "execute_result"
    }
   ],
   "source": [
    "len(list_bounds)"
   ]
  },
  {
   "cell_type": "code",
   "execution_count": 45,
   "metadata": {},
   "outputs": [],
   "source": [
    "for i in range(len(list_bounds)):\n",
    "    list_bounds[i] = list_bounds[i].replace('ounds:', '')\n",
    "    list_bounds[i] = list_bounds[i].replace(' ', '')\n",
    "    list_bounds[i] = list_bounds[i].replace('(', '')\n",
    "    list_bounds[i] = list_bounds[i].replace(')', '')"
   ]
  },
  {
   "cell_type": "code",
   "execution_count": 46,
   "metadata": {},
   "outputs": [
    {
     "data": {
      "text/plain": [
       "['414,72,477,72,477,94,414,94',\n",
       " '411,89,483,84,485,107,413,112',\n",
       " '535,76,598,78,597,101,534,99',\n",
       " '532,95,607,93,608,115,533,117',\n",
       " '219,105,256,106,256,113,219,112',\n",
       " '219,113,239,113,239,118,219,118',\n",
       " '242,112,256,112,256,118,242,118',\n",
       " '311,106,348,106,348,111,311,111',\n",
       " '311,113,331,113,331,118,311,118',\n",
       " '334,112,348,112,348,118,334,118',\n",
       " '430,153,453,154,453,160,430,159',\n",
       " '432,159,449,159,449,165,432,165',\n",
       " '451,159,461,159,461,165,451,165',\n",
       " '464,161,471,161,471,164,464,164',\n",
       " '483,159,496,159,496,165,483,165',\n",
       " '549,154,569,154,569,159,549,159',\n",
       " '551,161,565,161,565,164,551,164',\n",
       " '567,161,577,161,577,164,567,164',\n",
       " '580,161,597,161,597,164,580,164',\n",
       " '201,266,230,266,230,277,201,277',\n",
       " '234,268,242,268,242,277,234,277',\n",
       " '247,263,273,263,273,279,247,279',\n",
       " '308,261,356,261,356,277,308,277',\n",
       " '307,276,338,276,338,289,307,289',\n",
       " '421,262,469,262,469,275,421,275',\n",
       " '419,274,469,275,469,291,419,290',\n",
       " '534,268,571,268,571,277,534,277',\n",
       " '533,275,580,276,580,289,533,288',\n",
       " '532,286,564,286,564,297,532,297',\n",
       " '678,349,713,349,713,354,678,354',\n",
       " '677,355,696,355,696,361,677,361',\n",
       " '699,354,714,354,714,360,699,360',\n",
       " '209,391,231,392,231,408,209,407',\n",
       " '239,393,278,394,278,408,239,407',\n",
       " '521,391,544,391,544,399,521,399',\n",
       " '463,393,390,393,390,393,463,393',\n",
       " '458,397,554,396,554,409,458,410',\n",
       " '558,395,596,395,596,409,558,409',\n",
       " '356,522,368,522,368,526,356,526',\n",
       " '200,533,241,536,240,547,199,544',\n",
       " '212,545,249,545,249,555,212,555',\n",
       " '261,535,274,535,274,544,261,544',\n",
       " '278,535,282,535,282,542,278,542',\n",
       " '286,535,310,535,310,543,286,543',\n",
       " '314,534,318,534,318,544,314,544',\n",
       " '511,539,530,539,530,548,511,548',\n",
       " '541,536,568,537,568,547,541,546',\n",
       " '367,570,392,570,392,577,367,577',\n",
       " '426,571,455,571,455,584,426,584',\n",
       " '399,622,435,623,435,633,399,632',\n",
       " '398,631,443,631,443,641,398,641',\n",
       " '398,640,427,640,427,649,398,649',\n",
       " '85,668,129,668,129,682,85,682',\n",
       " '133,668,159,668,159,682,133,682',\n",
       " '233,738,238,738,238,748,233,748',\n",
       " '240,738,251,738,251,748,240,748',\n",
       " '421,742,439,742,439,759,421,759',\n",
       " '441,742,454,742,454,759,441,759',\n",
       " '456,742,466,742,466,759,456,759',\n",
       " '468,743,478,743,478,760,468,760',\n",
       " '480,743,493,743,493,760,480,760',\n",
       " '552,748,578,749,578,756,552,755',\n",
       " '202,817,274,808,277,828,204,837',\n",
       " '325,823,346,822,346,829,325,830',\n",
       " '312,829,366,827,367,843,313,845',\n",
       " '505,830,559,833,558,852,504,849',\n",
       " '519,847,570,851,569,864,518,860',\n",
       " '526,863,546,863,546,869,526,869',\n",
       " '549,863,563,863,563,870,549,870',\n",
       " '200,897,222,896,222,902,200,903',\n",
       " '198,903,214,902,214,915,198,916',\n",
       " '232,902,271,901,271,913,232,914',\n",
       " '305,907,327,906,327,918,305,919',\n",
       " '331,906,367,905,367,918,331,919']"
      ]
     },
     "execution_count": 46,
     "metadata": {},
     "output_type": "execute_result"
    }
   ],
   "source": [
    "list_bounds"
   ]
  },
  {
   "cell_type": "code",
   "execution_count": 47,
   "metadata": {},
   "outputs": [],
   "source": [
    "for i in range(len(list_bounds)):\n",
    "    list_bounds[i] = list_bounds[i].split(',')"
   ]
  },
  {
   "cell_type": "code",
   "execution_count": 48,
   "metadata": {},
   "outputs": [
    {
     "data": {
      "text/plain": [
       "[['414', '72', '477', '72', '477', '94', '414', '94'],\n",
       " ['411', '89', '483', '84', '485', '107', '413', '112'],\n",
       " ['535', '76', '598', '78', '597', '101', '534', '99'],\n",
       " ['532', '95', '607', '93', '608', '115', '533', '117'],\n",
       " ['219', '105', '256', '106', '256', '113', '219', '112'],\n",
       " ['219', '113', '239', '113', '239', '118', '219', '118'],\n",
       " ['242', '112', '256', '112', '256', '118', '242', '118'],\n",
       " ['311', '106', '348', '106', '348', '111', '311', '111'],\n",
       " ['311', '113', '331', '113', '331', '118', '311', '118'],\n",
       " ['334', '112', '348', '112', '348', '118', '334', '118'],\n",
       " ['430', '153', '453', '154', '453', '160', '430', '159'],\n",
       " ['432', '159', '449', '159', '449', '165', '432', '165'],\n",
       " ['451', '159', '461', '159', '461', '165', '451', '165'],\n",
       " ['464', '161', '471', '161', '471', '164', '464', '164'],\n",
       " ['483', '159', '496', '159', '496', '165', '483', '165'],\n",
       " ['549', '154', '569', '154', '569', '159', '549', '159'],\n",
       " ['551', '161', '565', '161', '565', '164', '551', '164'],\n",
       " ['567', '161', '577', '161', '577', '164', '567', '164'],\n",
       " ['580', '161', '597', '161', '597', '164', '580', '164'],\n",
       " ['201', '266', '230', '266', '230', '277', '201', '277'],\n",
       " ['234', '268', '242', '268', '242', '277', '234', '277'],\n",
       " ['247', '263', '273', '263', '273', '279', '247', '279'],\n",
       " ['308', '261', '356', '261', '356', '277', '308', '277'],\n",
       " ['307', '276', '338', '276', '338', '289', '307', '289'],\n",
       " ['421', '262', '469', '262', '469', '275', '421', '275'],\n",
       " ['419', '274', '469', '275', '469', '291', '419', '290'],\n",
       " ['534', '268', '571', '268', '571', '277', '534', '277'],\n",
       " ['533', '275', '580', '276', '580', '289', '533', '288'],\n",
       " ['532', '286', '564', '286', '564', '297', '532', '297'],\n",
       " ['678', '349', '713', '349', '713', '354', '678', '354'],\n",
       " ['677', '355', '696', '355', '696', '361', '677', '361'],\n",
       " ['699', '354', '714', '354', '714', '360', '699', '360'],\n",
       " ['209', '391', '231', '392', '231', '408', '209', '407'],\n",
       " ['239', '393', '278', '394', '278', '408', '239', '407'],\n",
       " ['521', '391', '544', '391', '544', '399', '521', '399'],\n",
       " ['463', '393', '390', '393', '390', '393', '463', '393'],\n",
       " ['458', '397', '554', '396', '554', '409', '458', '410'],\n",
       " ['558', '395', '596', '395', '596', '409', '558', '409'],\n",
       " ['356', '522', '368', '522', '368', '526', '356', '526'],\n",
       " ['200', '533', '241', '536', '240', '547', '199', '544'],\n",
       " ['212', '545', '249', '545', '249', '555', '212', '555'],\n",
       " ['261', '535', '274', '535', '274', '544', '261', '544'],\n",
       " ['278', '535', '282', '535', '282', '542', '278', '542'],\n",
       " ['286', '535', '310', '535', '310', '543', '286', '543'],\n",
       " ['314', '534', '318', '534', '318', '544', '314', '544'],\n",
       " ['511', '539', '530', '539', '530', '548', '511', '548'],\n",
       " ['541', '536', '568', '537', '568', '547', '541', '546'],\n",
       " ['367', '570', '392', '570', '392', '577', '367', '577'],\n",
       " ['426', '571', '455', '571', '455', '584', '426', '584'],\n",
       " ['399', '622', '435', '623', '435', '633', '399', '632'],\n",
       " ['398', '631', '443', '631', '443', '641', '398', '641'],\n",
       " ['398', '640', '427', '640', '427', '649', '398', '649'],\n",
       " ['85', '668', '129', '668', '129', '682', '85', '682'],\n",
       " ['133', '668', '159', '668', '159', '682', '133', '682'],\n",
       " ['233', '738', '238', '738', '238', '748', '233', '748'],\n",
       " ['240', '738', '251', '738', '251', '748', '240', '748'],\n",
       " ['421', '742', '439', '742', '439', '759', '421', '759'],\n",
       " ['441', '742', '454', '742', '454', '759', '441', '759'],\n",
       " ['456', '742', '466', '742', '466', '759', '456', '759'],\n",
       " ['468', '743', '478', '743', '478', '760', '468', '760'],\n",
       " ['480', '743', '493', '743', '493', '760', '480', '760'],\n",
       " ['552', '748', '578', '749', '578', '756', '552', '755'],\n",
       " ['202', '817', '274', '808', '277', '828', '204', '837'],\n",
       " ['325', '823', '346', '822', '346', '829', '325', '830'],\n",
       " ['312', '829', '366', '827', '367', '843', '313', '845'],\n",
       " ['505', '830', '559', '833', '558', '852', '504', '849'],\n",
       " ['519', '847', '570', '851', '569', '864', '518', '860'],\n",
       " ['526', '863', '546', '863', '546', '869', '526', '869'],\n",
       " ['549', '863', '563', '863', '563', '870', '549', '870'],\n",
       " ['200', '897', '222', '896', '222', '902', '200', '903'],\n",
       " ['198', '903', '214', '902', '214', '915', '198', '916'],\n",
       " ['232', '902', '271', '901', '271', '913', '232', '914'],\n",
       " ['305', '907', '327', '906', '327', '918', '305', '919'],\n",
       " ['331', '906', '367', '905', '367', '918', '331', '919']]"
      ]
     },
     "execution_count": 48,
     "metadata": {},
     "output_type": "execute_result"
    }
   ],
   "source": [
    "list_bounds"
   ]
  },
  {
   "cell_type": "code",
   "execution_count": 49,
   "metadata": {},
   "outputs": [],
   "source": [
    "for i in range(len(list_bounds)):\n",
    "    for j in range(len(list_bounds[i])):\n",
    "        list_bounds[i][j] = int(list_bounds[i][j])"
   ]
  },
  {
   "cell_type": "code",
   "execution_count": 50,
   "metadata": {},
   "outputs": [],
   "source": [
    "for i in range(len(list_bounds)):\n",
    "    list_bounds[i] = [(list_bounds[i][0], list_bounds[i][1]),(list_bounds[i][2], list_bounds[i][3]),(list_bounds[i][4], list_bounds[i][5]),(list_bounds[i][6], list_bounds[i][7])]"
   ]
  },
  {
   "cell_type": "code",
   "execution_count": 51,
   "metadata": {},
   "outputs": [
    {
     "data": {
      "text/plain": [
       "[[(414, 72), (477, 72), (477, 94), (414, 94)],\n",
       " [(411, 89), (483, 84), (485, 107), (413, 112)],\n",
       " [(535, 76), (598, 78), (597, 101), (534, 99)],\n",
       " [(532, 95), (607, 93), (608, 115), (533, 117)],\n",
       " [(219, 105), (256, 106), (256, 113), (219, 112)],\n",
       " [(219, 113), (239, 113), (239, 118), (219, 118)],\n",
       " [(242, 112), (256, 112), (256, 118), (242, 118)],\n",
       " [(311, 106), (348, 106), (348, 111), (311, 111)],\n",
       " [(311, 113), (331, 113), (331, 118), (311, 118)],\n",
       " [(334, 112), (348, 112), (348, 118), (334, 118)],\n",
       " [(430, 153), (453, 154), (453, 160), (430, 159)],\n",
       " [(432, 159), (449, 159), (449, 165), (432, 165)],\n",
       " [(451, 159), (461, 159), (461, 165), (451, 165)],\n",
       " [(464, 161), (471, 161), (471, 164), (464, 164)],\n",
       " [(483, 159), (496, 159), (496, 165), (483, 165)],\n",
       " [(549, 154), (569, 154), (569, 159), (549, 159)],\n",
       " [(551, 161), (565, 161), (565, 164), (551, 164)],\n",
       " [(567, 161), (577, 161), (577, 164), (567, 164)],\n",
       " [(580, 161), (597, 161), (597, 164), (580, 164)],\n",
       " [(201, 266), (230, 266), (230, 277), (201, 277)],\n",
       " [(234, 268), (242, 268), (242, 277), (234, 277)],\n",
       " [(247, 263), (273, 263), (273, 279), (247, 279)],\n",
       " [(308, 261), (356, 261), (356, 277), (308, 277)],\n",
       " [(307, 276), (338, 276), (338, 289), (307, 289)],\n",
       " [(421, 262), (469, 262), (469, 275), (421, 275)],\n",
       " [(419, 274), (469, 275), (469, 291), (419, 290)],\n",
       " [(534, 268), (571, 268), (571, 277), (534, 277)],\n",
       " [(533, 275), (580, 276), (580, 289), (533, 288)],\n",
       " [(532, 286), (564, 286), (564, 297), (532, 297)],\n",
       " [(678, 349), (713, 349), (713, 354), (678, 354)],\n",
       " [(677, 355), (696, 355), (696, 361), (677, 361)],\n",
       " [(699, 354), (714, 354), (714, 360), (699, 360)],\n",
       " [(209, 391), (231, 392), (231, 408), (209, 407)],\n",
       " [(239, 393), (278, 394), (278, 408), (239, 407)],\n",
       " [(521, 391), (544, 391), (544, 399), (521, 399)],\n",
       " [(463, 393), (390, 393), (390, 393), (463, 393)],\n",
       " [(458, 397), (554, 396), (554, 409), (458, 410)],\n",
       " [(558, 395), (596, 395), (596, 409), (558, 409)],\n",
       " [(356, 522), (368, 522), (368, 526), (356, 526)],\n",
       " [(200, 533), (241, 536), (240, 547), (199, 544)],\n",
       " [(212, 545), (249, 545), (249, 555), (212, 555)],\n",
       " [(261, 535), (274, 535), (274, 544), (261, 544)],\n",
       " [(278, 535), (282, 535), (282, 542), (278, 542)],\n",
       " [(286, 535), (310, 535), (310, 543), (286, 543)],\n",
       " [(314, 534), (318, 534), (318, 544), (314, 544)],\n",
       " [(511, 539), (530, 539), (530, 548), (511, 548)],\n",
       " [(541, 536), (568, 537), (568, 547), (541, 546)],\n",
       " [(367, 570), (392, 570), (392, 577), (367, 577)],\n",
       " [(426, 571), (455, 571), (455, 584), (426, 584)],\n",
       " [(399, 622), (435, 623), (435, 633), (399, 632)],\n",
       " [(398, 631), (443, 631), (443, 641), (398, 641)],\n",
       " [(398, 640), (427, 640), (427, 649), (398, 649)],\n",
       " [(85, 668), (129, 668), (129, 682), (85, 682)],\n",
       " [(133, 668), (159, 668), (159, 682), (133, 682)],\n",
       " [(233, 738), (238, 738), (238, 748), (233, 748)],\n",
       " [(240, 738), (251, 738), (251, 748), (240, 748)],\n",
       " [(421, 742), (439, 742), (439, 759), (421, 759)],\n",
       " [(441, 742), (454, 742), (454, 759), (441, 759)],\n",
       " [(456, 742), (466, 742), (466, 759), (456, 759)],\n",
       " [(468, 743), (478, 743), (478, 760), (468, 760)],\n",
       " [(480, 743), (493, 743), (493, 760), (480, 760)],\n",
       " [(552, 748), (578, 749), (578, 756), (552, 755)],\n",
       " [(202, 817), (274, 808), (277, 828), (204, 837)],\n",
       " [(325, 823), (346, 822), (346, 829), (325, 830)],\n",
       " [(312, 829), (366, 827), (367, 843), (313, 845)],\n",
       " [(505, 830), (559, 833), (558, 852), (504, 849)],\n",
       " [(519, 847), (570, 851), (569, 864), (518, 860)],\n",
       " [(526, 863), (546, 863), (546, 869), (526, 869)],\n",
       " [(549, 863), (563, 863), (563, 870), (549, 870)],\n",
       " [(200, 897), (222, 896), (222, 902), (200, 903)],\n",
       " [(198, 903), (214, 902), (214, 915), (198, 916)],\n",
       " [(232, 902), (271, 901), (271, 913), (232, 914)],\n",
       " [(305, 907), (327, 906), (327, 918), (305, 919)],\n",
       " [(331, 906), (367, 905), (367, 918), (331, 919)]]"
      ]
     },
     "execution_count": 51,
     "metadata": {},
     "output_type": "execute_result"
    }
   ],
   "source": [
    "list_bounds"
   ]
  },
  {
   "cell_type": "code",
   "execution_count": 52,
   "metadata": {},
   "outputs": [],
   "source": [
    "dict_all_text_cood = {}\n",
    "for i in range(len(list_bounds)):\n",
    "    if list_text[i] in dict_all_text_cood.keys():\n",
    "        dict_all_text_cood[list_text[i]].append(list_bounds[i])\n",
    "        continue\n",
    "    dict_all_text_cood[list_text[i]] = [list_bounds[i]]"
   ]
  },
  {
   "cell_type": "code",
   "execution_count": 53,
   "metadata": {},
   "outputs": [
    {
     "data": {
      "text/plain": [
       "{\"Natune's\": [[(414, 72), (477, 72), (477, 94), (414, 94)]],\n",
       " 'Promise': [[(411, 89), (483, 84), (485, 107), (413, 112)],\n",
       "  [(532, 95), (607, 93), (608, 115), (533, 117)]],\n",
       " \"Nature's\": [[(535, 76), (598, 78), (597, 101), (534, 99)]],\n",
       " 'Beil-In-Bag': [[(219, 105), (256, 106), (256, 113), (219, 112)]],\n",
       " 'Brown': [[(219, 113), (239, 113), (239, 118), (219, 118)],\n",
       "  [(311, 113), (331, 113), (331, 118), (311, 118)]],\n",
       " 'Rice': [[(242, 112), (256, 112), (256, 118), (242, 118)],\n",
       "  [(334, 112), (348, 112), (348, 118), (334, 118)],\n",
       "  [(307, 276), (338, 276), (338, 289), (307, 289)],\n",
       "  [(699, 354), (714, 354), (714, 360), (699, 360)]],\n",
       " 'Boil-In-Bag': [[(311, 106), (348, 106), (348, 111), (311, 111)]],\n",
       " 'Organic': [[(430, 153), (453, 154), (453, 160), (430, 159)],\n",
       "  [(549, 154), (569, 154), (569, 159), (549, 159)]],\n",
       " 'Honey': [[(432, 159), (449, 159), (449, 165), (432, 165)]],\n",
       " 'Nut': [[(451, 159), (461, 159), (461, 165), (451, 165)]],\n",
       " 'Os': [[(464, 161), (471, 161), (471, 164), (464, 164)]],\n",
       " 'O': [[(483, 159), (496, 159), (496, 165), (483, 165)]],\n",
       " 'Ran': [[(551, 161), (565, 161), (565, 164), (551, 164)]],\n",
       " 'Bran': [[(567, 161), (577, 161), (577, 164), (567, 164)]],\n",
       " 'Ceds': [[(580, 161), (597, 161), (597, 164), (580, 164)]],\n",
       " 'Oats': [[(201, 266), (230, 266), (230, 277), (201, 277)]],\n",
       " '&': [[(234, 268), (242, 268), (242, 277), (234, 277)]],\n",
       " \"O's.\": [[(247, 263), (273, 263), (273, 279), (247, 279)]],\n",
       " 'Puffed': [[(308, 261), (356, 261), (356, 277), (308, 277)],\n",
       "  [(421, 262), (469, 262), (469, 275), (421, 275)]],\n",
       " 'Wheat': [[(419, 274), (469, 275), (469, 291), (419, 290)],\n",
       "  [(532, 286), (564, 286), (564, 297), (532, 297)],\n",
       "  [(398, 640), (427, 640), (427, 649), (398, 649)]],\n",
       " 'Frosted': [[(534, 268), (571, 268), (571, 277), (534, 277)],\n",
       "  [(521, 391), (544, 391), (544, 399), (521, 399)],\n",
       "  [(399, 622), (435, 623), (435, 633), (399, 632)]],\n",
       " 'Shredded': [[(533, 275), (580, 276), (580, 289), (533, 288)],\n",
       "  [(398, 631), (443, 631), (443, 641), (398, 641)]],\n",
       " 'Boil-le-Be': [[(678, 349), (713, 349), (713, 354), (678, 354)]],\n",
       " 'White': [[(677, 355), (696, 355), (696, 361), (677, 361)]],\n",
       " \"Oat's\": [[(209, 391), (231, 392), (231, 408), (209, 407)]],\n",
       " '$0.75': [[(239, 393), (278, 394), (278, 408), (239, 407)]],\n",
       " '77711': [[(463, 393), (390, 393), (390, 393), (463, 393)]],\n",
       " 'LLEEdded': [[(458, 397), (554, 396), (554, 409), (458, 410)]],\n",
       " '$2.24': [[(558, 395), (596, 395), (596, 409), (558, 409)]],\n",
       " 'Ored': [[(356, 522), (368, 522), (368, 526), (356, 526)]],\n",
       " 'Spark': [[(200, 533), (241, 536), (240, 547), (199, 544)]],\n",
       " 'measy': [[(212, 545), (249, 545), (249, 555), (212, 555)]],\n",
       " 'Buy': [[(261, 535), (274, 535), (274, 544), (261, 544)]],\n",
       " '3': [[(278, 535), (282, 535), (282, 542), (278, 542)]],\n",
       " 'Choco': [[(286, 535), (310, 535), (310, 543), (286, 543)]],\n",
       " 'F': [[(314, 534), (318, 534), (318, 544), (314, 544)]],\n",
       " 'kinie': [[(511, 539), (530, 539), (530, 548), (511, 548)]],\n",
       " 'kinley': [[(541, 536), (568, 537), (568, 547), (541, 546)]],\n",
       " '$1.25': [[(367, 570), (392, 570), (392, 577), (367, 577)]],\n",
       " 'LL': [[(426, 571), (455, 571), (455, 584), (426, 584)]],\n",
       " 'Ostar': [[(85, 668), (129, 668), (129, 682), (85, 682)]],\n",
       " 'Oe': [[(133, 668), (159, 668), (159, 682), (133, 682)]],\n",
       " '$': [[(233, 738), (238, 738), (238, 748), (233, 748)]],\n",
       " '1.25': [[(240, 738), (251, 738), (251, 748), (240, 748)]],\n",
       " 'E': [[(421, 742), (439, 742), (439, 759), (421, 759)]],\n",
       " 'に': [[(441, 742), (454, 742), (454, 759), (441, 759)]],\n",
       " 'ビ': [[(456, 742), (466, 742), (466, 759), (456, 759)],\n",
       "  [(480, 743), (493, 743), (493, 760), (480, 760)]],\n",
       " '1': [[(468, 743), (478, 743), (478, 760), (468, 760)]],\n",
       " '$2.50': [[(552, 748), (578, 749), (578, 756), (552, 755)]],\n",
       " 'сносOS': [[(202, 817), (274, 808), (277, 828), (204, 837)]],\n",
       " 'al': [[(325, 823), (346, 822), (346, 829), (325, 830)]],\n",
       " 'сносоS': [[(312, 829), (366, 827), (367, 843), (313, 845)]],\n",
       " 'GDark': [[(505, 830), (559, 833), (558, 852), (504, 849)]],\n",
       " 'Fantasy': [[(519, 847), (570, 851), (569, 864), (518, 860)]],\n",
       " 'Choce': [[(526, 863), (546, 863), (546, 869), (526, 869)]],\n",
       " 'File': [[(549, 863), (563, 863), (563, 870), (549, 870)]],\n",
       " 'Chocos': [[(200, 897), (222, 896), (222, 902), (200, 903)]],\n",
       " '125': [[(198, 903), (214, 902), (214, 915), (198, 916)]],\n",
       " '$2.25': [[(232, 902), (271, 901), (271, 913), (232, 914)]],\n",
       " \"Dat's\": [[(305, 907), (327, 906), (327, 918), (305, 919)]],\n",
       " '$3.00': [[(331, 906), (367, 905), (367, 918), (331, 919)]]}"
      ]
     },
     "execution_count": 53,
     "metadata": {},
     "output_type": "execute_result"
    }
   ],
   "source": [
    "dict_all_text_cood"
   ]
  },
  {
   "cell_type": "code",
   "execution_count": 54,
   "metadata": {},
   "outputs": [],
   "source": [
    "dict_results = check_overlap(dict_all_text_cood, res_cood)"
   ]
  },
  {
   "cell_type": "code",
   "execution_count": null,
   "metadata": {},
   "outputs": [],
   "source": [
    "def final_price_matching(dict_res, text_cood):\n",
    "    dict_price = {}\n",
    "    l_of_text = []\n",
    "    l_of_text_cood = []\n",
    "\n",
    "    for key in text_cood.keys():\n",
    "        l = text_cood[key]\n",
    "        for i in range(len(l)):\n",
    "            l_of_text.append(key)\n",
    "            l_of_text_cood.append(l[i])\n",
    "    \n",
    "    for key in dict_res.keys():\n",
    "        l_check = []\n",
    "        l = dict_res[key]\n",
    "        for i in range(len(l)):\n",
    "            if (max(l[i]) == 0):\n",
    "                l_check.append('No Text')\n",
    "                dict_price[key] = l_check\n",
    "                continue\n",
    "            else:\n",
    "                for j in range(len(l[i])):\n",
    "                    if l[i][j] == 0:\n",
    "                        continue\n",
    "                    else:\n",
    "                        l_check.append([l_of_text[j]])\n",
    "#                 l_check.append([l_of_text[l[i].index(max(l[i]))], (max(l[i])/area_text(l_of_text_cood[l[i].index(max(l[i]))]))])\n",
    "                dict_price[key] = l_check\n",
    "    return dict_price"
   ]
  },
  {
   "cell_type": "code",
   "execution_count": 55,
   "metadata": {},
   "outputs": [
    {
     "data": {
      "text/plain": [
       "{'puffed_wheat.png': [['Frosted', 0.08695652173913043],\n",
       "  ['LLEEdded', 0.6770833333333334]],\n",
       " 'nature_promise_raisin.png': ['Price is Missing'],\n",
       " 'nature_promise_nut.png': ['Price is Missing'],\n",
       " 'puffed_rice.png': ['Price is Missing'],\n",
       " 'shredded_wheat.png': [['E', 1.0],\n",
       "  ['に', 1.0],\n",
       "  ['ビ', 1.0],\n",
       "  ['ビ', 0.5384615384615384],\n",
       "  ['1', 1.0],\n",
       "  ['Frosted', 0.7207336956521736],\n",
       "  ['LLEEdded', 0.3229166666666667],\n",
       "  ['$2.24', 1.0]],\n",
       " 'oats.png': [[\"Oat's\", 1.0], ['$0.75', 1.0]],\n",
       " 'chocos_125g.png': [['Chocos', 0.8129629629629657],\n",
       "  ['125', 1.0],\n",
       "  ['$2.25', 1.0],\n",
       "  [\"Dat's\", 1.0],\n",
       "  ['$3.00', 1.0]]}"
      ]
     },
     "execution_count": 55,
     "metadata": {},
     "output_type": "execute_result"
    }
   ],
   "source": [
    "price_matching(dict_results, dict_all_text_cood)"
   ]
  },
  {
   "cell_type": "code",
   "execution_count": null,
   "metadata": {},
   "outputs": [],
   "source": []
  }
 ],
 "metadata": {
  "kernelspec": {
   "display_name": "Python 3",
   "language": "python",
   "name": "python3"
  },
  "language_info": {
   "codemirror_mode": {
    "name": "ipython",
    "version": 3
   },
   "file_extension": ".py",
   "mimetype": "text/x-python",
   "name": "python",
   "nbconvert_exporter": "python",
   "pygments_lexer": "ipython3",
   "version": "3.7.6"
  }
 },
 "nbformat": 4,
 "nbformat_minor": 4
}
